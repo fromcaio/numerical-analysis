{
 "cells": [
  {
   "cell_type": "markdown",
   "id": "a621bd6f",
   "metadata": {},
   "source": [
    "### Método de Newton para encontrar raízes de $f(x) = x^3 - x - 1$ no intervalo $[1,2]$\n",
    "#### 1. Formulação do Método de Newton\n",
    "O método de Newton (ou Newton-Raphson) é um método iterativo para encontrar raízes de funções não lineares. A fórmula geral é:\n",
    "$$x_{k+1} = x_k - \\frac{f(x_k)}{f'(x_k)}$$\n",
    "Ou seja, a cada iteração, aproximamos a raiz usando a inclinação da reta tangente à curva de $f(x)$ no ponto $x_k$.\n",
    "\n",
    "#### 2. Derivada da função\n",
    "Para aplicar o método, precisamos da derivada de $f(x)$:\n",
    "Se $f(x) = x^3 - x - 1$, então:\n",
    "$$f'(x) = 3x^2 - 1$$\n",
    "\n",
    "#### 3. Chute Inicial\n",
    "Escolhemos um valor inicial $x_0$ dentro do intervalo de interesse $[1,2]$. Assim como no ponto fixo, a escolha de $x_0$ influencia a convergência. Um bom chute inicial, próximo da raiz real, tende a reduzir o número de iterações necessárias.\n",
    "\n",
    "#### 4. Iteração\n",
    "O processo iterativo segue a fórmula:\n",
    "\n",
    "$$x_{k+1} = x_k - \\frac{f(x_k)}{f'(x_k)}$$\n",
    "A cada passo, calculamos $f(x_k)$ e $f'(x_k)$, e atualizamos $x_{k+1}$.\n",
    "\n",
    "#### 5. Critério de parada\n",
    "- $|x_{k+1} - x_k| < \\epsilon_1$\n",
    "- $|f(x_{k+1})| < \\epsilon_2$\n",
    "- número máximo de iterações\n",
    "\n",
    "#### Exemplo Prático\n",
    "Parâmetros:\n",
    "\n",
    "- $x_0 = 1.5$\n",
    "- $\\epsilon = 10^{-6}$\n",
    "- max_iter = 50\n",
    "- $f(x) = x^3 - x - 1$\n",
    "- $f'(x) = 3x^2 - 1$\n",
    "\n",
    "Tabela:\n",
    "\n",
    "| k | $x_k$ | $f(x_k)$ | $f'(x_k)$ | $x_{k+1}$ | $\\mid x_{k+1} - x_k \\mid$ |\n",
    "|------:|----------------:|----------------:|----------------:|----------------:|------------------:|\n",
    "| 0 | 1.5000000000 | 0.8750000000 | 5.7500000000 | 1.3478260870 | 0.1521739130 |\n",
    "| 1 | 1.3478260870 | 0.1006821731 | 4.4544631046 | 1.3252024580 | 0.0226236290 |\n",
    "| 2 | 1.3252024580 | 0.0020583619 | 4.2637310557 | 1.3247181739 | 0.0004842841 |\n",
    "| 3 | 1.3247181739 | 0.0000010444 | 4.2595049172 | 1.3247181730 | 0.0000000009 |\n",
    "| 4 | 1.3247181730 | 0.0000000000 | 4.2595049160 | 1.3247181730 | 0.0000000000 |\n",
    "\n",
    "Assim, a raiz aproximada é $x \\approx 1.3247181730$."
   ]
  },
  {
   "cell_type": "code",
   "execution_count": null,
   "id": "a189a5f7",
   "metadata": {
    "vscode": {
     "languageId": "plaintext"
    }
   },
   "outputs": [],
   "source": [
    "import numpy as np\n",
    "\n",
    "def f(x):\n",
    "    return x**3 - x - 1\n",
    "\n",
    "def df(x):\n",
    "    return 3*x**2 - 1\n",
    "\n",
    "def newton_method(f, df, x0, tol=1e-6, max_iter=50):\n",
    "    xk = x0\n",
    "    history = [xk]\n",
    "    for i in range(max_iter):\n",
    "        fxk = f(xk)\n",
    "        dfxk = df(xk)\n",
    "        if dfxk == 0:\n",
    "            print(\"Derivada zero. Método falhou.\")\n",
    "            return xk, history\n",
    "        xk1 = xk - fxk/dfxk\n",
    "        history.append(xk1)\n",
    "        if abs(xk1 - xk) < tol:\n",
    "            break\n",
    "        xk = xk1\n",
    "    return xk1, history\n",
    "\n",
    "# Exemplo de uso\n",
    "x0 = 1.5\n",
    "root, iterates = newton_method(f, df, x0)\n",
    "print(f\"Raiz aproximada: {root}\")\n",
    "print(f\"Iterações: {iterates}\")"
   ]
  }
 ],
 "metadata": {
  "language_info": {
   "name": "python"
  }
 },
 "nbformat": 4,
 "nbformat_minor": 5
}
