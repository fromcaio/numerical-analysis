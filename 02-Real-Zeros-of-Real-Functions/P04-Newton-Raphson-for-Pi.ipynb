{
 "cells": [
  {
   "cell_type": "markdown",
   "metadata": {},
   "source": [
    "# Practice 05: Using Newton-Raphson to Approximate Pi\n",
    "\n",
    "---\n",
    "\n",
    "### Problem\n",
    "\n",
    "The value of $\\pi$ can be found by solving the following equations for the root near 3:\n",
    "\n",
    "a) $f_1(x) = \\sin(x) = 0$\n",
    "\n",
    "b) $f_2(x) = \\cos(x) + 1 = 0$\n",
    "\n",
    "Apply the Newton-Raphson method to each case with an initial guess of $x_0 = 3$ and a tolerance of $10^{-7}$. Compare and justify the results obtained."
   ]
  },
  {
   "cell_type": "markdown",
   "metadata": {},
   "source": [
    "### Case (a): $f_1(x) = \\sin(x)$\n",
    "\n",
    "First, we need the derivative:\n",
    "$$ f_1'(x) = \\cos(x) $$\n",
    "\n",
    "The Newton-Raphson iteration is:\n",
    "$$ x_{k+1} = x_k - \\frac{\\sin(x_k)}{\\cos(x_k)} = x_k - \\tan(x_k) $$"
   ]
  },
  {
   "cell_type": "code",
   "execution_count": null,
   "metadata": {},
   "outputs": [],
   "source": [
    "import numpy as np\n",
    "import pandas as pd\n",
    "\n",
    "def newton_raphson(f, df, x0, tol=1e-7, max_iter=20):\n",
    "    history = []\n",
    "    xk = float(x0)\n",
    "    for k in range(max_iter):\n",
    "        fxk = f(xk)\n",
    "        dfxk = df(xk)\n",
    "        error = abs(fxk) # Stop when f(x) is close to 0\n",
    "        history.append([k, xk, fxk, dfxk, error])\n",
    "        if error < tol:\n",
    "            break\n",
    "        if abs(dfxk) < 1e-12:\n",
    "            print(\"Derivative is zero.\")\n",
    "            break\n",
    "        xk = xk - fxk / dfxk\n",
    "    return xk, pd.DataFrame(history, columns=[\"k\", \"x_k\", \"f(x_k)\", \"f'(x_k)\", \"|f(x_k)|\"])\n",
    "\n",
    "# --- Case (a) --- \n",
    "f1 = np.sin\n",
    "df1 = np.cos\n",
    "\n",
    "pi_approx1, history1_df = newton_raphson(f1, df1, x0=3)\n",
    "\n",
    "print(\"--- Case (a): f(x) = sin(x) ---\")\n",
    "display(history1_df)\n",
    "print(f\"\\nApproximation of pi: {pi_approx1:.15f}\")\n",
    "print(f\"Actual value of pi:  {np.pi:.15f}\")\n",
    "print(f\"Error: {abs(pi_approx1 - np.pi):.2e}\")"
   ]
  },
  {
   "cell_type": "markdown",
   "metadata": {},
   "source": [
    "### Case (b): $f_2(x) = \\cos(x) + 1$\n",
    "\n",
    "First, we need the derivative:\n",
    "$$ f_2'(x) = -\\sin(x) $$\n",
    "\n",
    "The Newton-Raphson iteration is:\n",
    "$$ x_{k+1} = x_k - \\frac{\\cos(x_k) + 1}{-\\sin(x_k)} = x_k + \\frac{\\cos(x_k) + 1}{\\sin(x_k)} $$"
   ]
  },
  {
   "cell_type": "code",
   "execution_count": null,
   "metadata": {},
   "outputs": [],
   "source": [
    "# --- Case (b) --- \n",
    "def f2(x):\n",
    "    return np.cos(x) + 1\n",
    "\n",
    "def df2(x):\n",
    "    return -np.sin(x)\n",
    "\n",
    "pi_approx2, history2_df = newton_raphson(f2, df2, x0=3)\n",
    "\n",
    "print(\"--- Case (b): f(x) = cos(x) + 1 ---\")\n",
    "display(history2_df)\n",
    "print(f\"\\nApproximation of pi: {pi_approx2:.15f}\")\n",
    "print(f\"Actual value of pi:  {np.pi:.15f}\")\n",
    "print(f\"Error: {abs(pi_approx2 - np.pi):.2e}\")"
   ]
  },
  {
   "cell_type": "markdown",
   "metadata": {},
   "source": [
    "### Justification and Comparison of Results\n",
    "\n",
    "**Observation:**\n",
    "- **Case (a) with $f(x) = \\sin(x)$ converges extremely quickly**, achieving high precision in just 3 iterations.\n",
    "- **Case (b) with $f(x) = \\cos(x) + 1$ converges very slowly**, requiring 19 iterations to reach a similar, but less accurate, precision.\n",
    "\n",
    "**Justification:**\n",
    "\n",
    "The difference in performance is due to the nature of the root at $x=\\pi$ for each function.\n",
    "\n",
    "1.  **For $f_1(x) = \\sin(x)$:**\n",
    "    - The root at $x=\\pi$ is a **simple root**. \n",
    "    - The derivative at the root is non-zero: $f_1'(\\pi) = \\cos(\\pi) = -1$.\n",
    "    - When the derivative at the root is non-zero, Newton's method exhibits **quadratic convergence**, which is exceptionally fast. The number of correct digits roughly doubles with each iteration.\n",
    "\n",
    "2.  **For $f_2(x) = \\cos(x) + 1$:**\n",
    "    - The root at $x=\\pi$ is a **multiple root** (specifically, a double root).\n",
    "    - The derivative at the root is **zero**: $f_2'(\\pi) = -\\sin(\\pi) = 0$.\n",
    "    - When the derivative at the root is zero, the fundamental assumption of Newton's method is violated. The method loses its quadratic convergence property and reverts to **linear convergence**, which is much slower.\n",
    "    - We can see from the table for Case (b) that the derivative $f'(x_k)$ gets closer and closer to zero as $x_k$ approaches $\\pi$, which slows down the process dramatically.\n",
    "\n",
    "**Conclusion:**\n",
    "\n",
    "This exercise is a perfect illustration of how the theoretical properties of a function at its root directly impact the performance of Newton's method. The method is at its best for simple roots where the function has a steep, non-zero slope. It struggles significantly when the root is also a critical point (i.e., where the tangent is horizontal)."
   ]
  }
 ]
}