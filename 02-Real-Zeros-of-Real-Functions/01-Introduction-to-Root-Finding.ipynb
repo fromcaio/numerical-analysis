{
 "cells": [
  {
   "cell_type": "markdown",
   "metadata": {},
   "source": [
    "# Chapter 2: Real Zeros of Real Functions\n",
    "\n",
    "---\n",
    "\n",
    "## 1. Introduction\n",
    "\n",
    "A frequent and fundamental problem in science and engineering is finding the **roots** (or **zeros**) of a function. This involves finding a value $x$ such that $f(x) = 0$.\n",
    "\n",
    "The functions we encounter can be of different types:\n",
    "\n",
    "1.  **Functions of a single variable ($f: \\mathbb{R} \\to \\mathbb{R}$)**:\n",
    "    * *Example:* Find $x$ such that $x^2 - 4\\sin(x) = 0$.\n",
    "\n",
    "2.  **Systems of functions ($F: \\mathbb{R}^n \\to \\mathbb{R}^n$)**:\n",
    "    * *Example:* Find $(x_1, x_2)$ that simultaneously solve:\n",
    "        $$ \\begin{cases} x_1 - x_2 + 0.25 = 0 \\\\ -x_1^2 + x_2 + 0.25 = 0 \\end{cases} $$\n",
    "\n",
    "For many functions, especially non-linear ones, finding an exact analytical solution is impossible. We must, therefore, turn to **numerical methods** to approximate these roots to a desired level of accuracy.\n",
    "\n",
    "> **Note:** In this chapter, we will focus exclusively on finding **real roots** for functions of a single variable. We will not be exploring complex roots.\n",
    "\n",
    "The process of finding a root is typically divided into two distinct phases."
   ]
  },
  {
   "cell_type": "markdown",
   "metadata": {},
   "source": [
    "## 2. The Two Phases of Root Finding\n",
    "\n",
    "### Phase I: Bracketing (or Isolating) the Roots\n",
    "The goal of this first phase is to find one or more intervals, $[a, b]$, that are guaranteed to contain at least one root. This narrows down our search space. Common techniques for bracketing include:\n",
    "\n",
    "1.  **Graphical Analysis**: Plotting the function and visually inspecting where the graph crosses the x-axis.\n",
    "2.  **Tabulation**: Creating a table of function values and looking for a change in sign between two consecutive points.\n",
    "3.  **Automated Search**: Fixing a starting point $a$ and systematically searching for a point $b$ such that $f(a) \\cdot f(b) < 0$.\n",
    "\n",
    "This process is mathematically grounded by two important theorems."
   ]
  },
  {
   "cell_type": "markdown",
   "metadata": {},
   "source": [
    "#### Key Theorems for Bracketing\n",
    "\n",
    "**Theorem 1: Intermediate Value Theorem (IVT)**\n",
    "> If a function $f(x)$ is **continuous** on a closed interval $[a, b]$, and $f(a)$ and $f(b)$ have **opposite signs** (i.e., $f(a) \\cdot f(b) < 0$), then there must be at least one value $c$ in $(a, b)$ such that $f(c) = 0$.\n",
    "\n",
    "This theorem is the cornerstone of root bracketing. It guarantees that if we find a sign change, a root *must* exist within that interval.\n",
    "\n",
    "**Theorem 2: Uniqueness of a Root**\n",
    "> If, in addition to the conditions of the IVT, the derivative $f'(x)$ **exists** and **maintains the same sign** (is strictly positive or strictly negative) for all $x$ in $(a, b)$, then the root $c$ is **unique** within that interval.\n",
    "\n",
    "This second theorem is useful because it tells us if the function is strictly monotonic (always increasing or always decreasing) in the interval. If it is, it can only cross the x-axis once."
   ]
  },
  {
   "cell_type": "markdown",
   "metadata": {},
   "source": [
    "### Phase II: Refining the Root\n",
    "\n",
    "Once we have an interval $[a, b]$ that brackets a root, we move to the refinement phase. The goal here is to use an iterative algorithm to systematically shrink the interval and approximate the root with increasing accuracy.\n",
    "\n",
    "This is where the various numerical methods come into play. The key differences between them lie in their strategy for refinement, which impacts their speed of convergence and reliability.\n",
    "\n",
    "In the upcoming notebooks, we will study the following refinement methods:\n",
    "-   **Bisection Method**\n",
    "-   **Fixed-Point Iteration Method**\n",
    "-   **Newton-Raphson Method**\n",
    "-   **Secant Method**"
   ]
  },
  {
   "cell_type": "markdown",
   "metadata": {},
   "source": [
    "## 3. Example: Bracketing Roots for $f(x) = x^3 - 9x + 3$\n",
    "\n",
    "Let's apply the techniques from Phase I to find intervals containing the roots of the function $f(x) = x^3 - 9x + 3$."
   ]
  },
  {
   "cell_type": "markdown",
   "metadata": {},
   "source": [
    "### Method 1: Graphical Analysis"
   ]
  },
  {
   "cell_type": "code",
   "execution_count": null,
   "metadata": {},
   "outputs": [],
   "source": [
    "import numpy as np\n",
    "import matplotlib.pyplot as plt\n",
    "\n",
    "def f(x):\n",
    "    return x**3 - 9*x + 3\n",
    "\n",
    "# Generate x values for plotting\n",
    "x_vals = np.linspace(-4, 4, 400)\n",
    "y_vals = f(x_vals)\n",
    "\n",
    "# Create the plot\n",
    "plt.figure(figsize=(10, 6))\n",
    "plt.plot(x_vals, y_vals, label='$f(x) = x^3 - 9x + 3$')\n",
    "plt.axhline(0, color='black', linewidth=0.5) # x-axis\n",
    "plt.axvline(0, color='black', linewidth=0.5) # y-axis\n",
    "plt.title('Graphical Analysis of $f(x)$')\n",
    "plt.xlabel('x')\n",
    "plt.ylabel('f(x)')\n",
    "plt.grid(True, linestyle=':')\n",
    "plt.legend()\n",
    "plt.show()"
   ]
  },
  {
   "cell_type": "markdown",
   "metadata": {},
   "source": [
    "**Visual Inspection:**\n",
    "From the graph, we can visually identify three intervals where the function crosses the x-axis, suggesting three distinct roots:\n",
    "1.  One root between **-4 and -3**.\n",
    "2.  One root between **0 and 1**.\n",
    "3.  One root between **2 and 3**."
   ]
  },
  {
   "cell_type": "markdown",
   "metadata": {},
   "source": [
    "### Method 2: Tabulation and Sign-Change Detection"
   ]
  },
  {
   "cell_type": "code",
   "execution_count": null,
   "metadata": {},
   "outputs": [],
   "source": [
    "import pandas as pd\n",
    "\n",
    "def find_root_intervals(func, start, end, step):\n",
    "    \"\"\"Generates a table of values and identifies intervals with sign changes.\"\"\"\n",
    "    \n",
    "    points = np.arange(start, end + step, step)\n",
    "    f_values = func(points)\n",
    "    \n",
    "    # Create a DataFrame for nice display\n",
    "    df = pd.DataFrame({'x': points, 'f(x)': f_values})\n",
    "    print(\"--- Table of Values ---\")\n",
    "    print(df)\n",
    "    \n",
    "    # Find and print intervals with roots\n",
    "    print(\"\\n--- Intervals Containing Roots ---\")\n",
    "    for i in range(len(points) - 1):\n",
    "        # Check if the product of f(x_i) and f(x_{i+1}) is negative\n",
    "        if f_values[i] * f_values[i+1] < 0:\n",
    "            print(f\"Sign change detected. Root exists in: [{points[i]:.1f}, {points[i+1]:.1f}] -> [f(a)={f_values[i]:.2f}, f(b)={f_values[i+1]:.2f}]\")\n",
    "\n",
    "# Search for roots in the range [-4, 4] with a step of 1\n",
    "find_root_intervals(f, start=-4, end=4, step=1)"
   ]
  },
  {
   "cell_type": "markdown",
   "metadata": {},
   "source": [
    "**Tabulation Results:**\n",
    "The automated search confirms our graphical analysis. The table clearly shows a change of sign (and therefore, a root) in the following integer intervals:\n",
    "- **[-4.0, -3.0]**: $f(x)$ goes from -25 to +3.\n",
    "- **[0.0, 1.0]**: $f(x)$ goes from +3 to -5.\n",
    "- **[2.0, 3.0]**: $f(x)$ goes from -7 to +3.\n",
    "\n",
    "With these initial brackets, we are now ready to proceed to Phase II and apply refinement methods to find the roots with high precision."
   ]
  }
 ],
 "metadata": {
  "kernelspec": {
   "display_name": "Python 3",
   "language": "python",
   "name": "python3"
  },
  "language_info": {
   "codemirror_mode": {
    "name": "ipython",
    "version": 3
   },
   "file_extension": ".py",
   "mimetype": "text/x-python",
   "name": "python",
   "nbconvert_exporter": "python",
   "pygments_lexer": "ipython3",
   "version": "3.9.7"
  }
 },
 "nbformat": 4,
 "nbformat_minor": 4
}