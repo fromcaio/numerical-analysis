{
 "cells": [
  {
   "cell_type": "markdown",
   "id": "a8d8f7e5",
   "metadata": {},
   "source": [
    "Aplique o método da bisseção para a função:\n",
    "$$f(x)\\sqrt{x}-5e^{-x}=0$$\n",
    "no intervalo $[1,2]$ com 3 passos iterativos"
   ]
  },
  {
   "cell_type": "markdown",
   "id": "286624be",
   "metadata": {},
   "source": [
    "##### Reposta\n",
    "Primeiro vamos verificar se existe uma raiz no intervalo $[a,b]$. Para fazer isso vamos ver se $f(a).f(b) < 0$"
   ]
  },
  {
   "cell_type": "code",
   "execution_count": 21,
   "id": "3c75da6b",
   "metadata": {},
   "outputs": [
    {
     "name": "stdout",
     "output_type": "stream",
     "text": [
      "a = 1.25, b = 1.5\n",
      "Approximate zero found at 1.375\n",
      "f(approx) = -0.09159403906787489\n"
     ]
    }
   ],
   "source": [
    "import numpy as np\n",
    "import matplotlib\n",
    "\n",
    "def real_function(x):\n",
    "    result = np.sqrt(x) - (5 / np.exp(x))\n",
    "    return np.float64(result)\n",
    "\n",
    "def check_for_zero(a, b):\n",
    "    if real_function(a) * real_function(b) < 0:\n",
    "        return True\n",
    "    return False\n",
    "\n",
    "a = 1.0\n",
    "b = 2.0\n",
    "k = 2\n",
    "\n",
    "if check_for_zero(a, b):\n",
    "    for i in range(k):\n",
    "        x_k = (a + b) / 2\n",
    "        if real_function(x_k) == 0:\n",
    "            print(\"Found exact zero at\", x_k)\n",
    "            break\n",
    "        elif real_function(a) * real_function(x_k) < 0:\n",
    "            b = x_k\n",
    "        else:\n",
    "            a = x_k\n",
    "else:\n",
    "    print(\"No zero found between\", a, \"and\", b)\n",
    "\n",
    "print(f\"a = {a}, b = {b}\")\n",
    "print(\"Approximate zero found at\", (a + b) / 2)\n",
    "print(\"f(approx) =\", real_function((a + b) / 2))"
   ]
  },
  {
   "cell_type": "markdown",
   "id": "b50481c2",
   "metadata": {},
   "source": [
    "Vamos encontrar quantas iterações serão feitas"
   ]
  },
  {
   "cell_type": "code",
   "execution_count": 18,
   "id": "6e985efc",
   "metadata": {},
   "outputs": [
    {
     "name": "stdout",
     "output_type": "stream",
     "text": [
      "0.0\n",
      "-3.0\n",
      "0.3010299956639812\n",
      "Estimated iterations needed: 9.965784284662087\n"
     ]
    }
   ],
   "source": [
    "import numpy as np\n",
    "import matplotlib\n",
    "\n",
    "def real_function(x):\n",
    "    result = np.sqrt(x) - (5 / np.exp(x))\n",
    "    return np.float64(result)\n",
    "\n",
    "a = 1.0\n",
    "b = 2.0\n",
    "tol = 1e-3  # relative error tolerance\n",
    "\n",
    "estimativa = (np.log10(1) - np.log10(tol)) / np.log10(2)\n",
    "print(np.log10(b-a))\n",
    "print(np.log10(tol))\n",
    "print(np.log10(2))\n",
    "print(f\"Estimated iterations needed: {estimativa}\")"
   ]
  }
 ],
 "metadata": {
  "kernelspec": {
   "display_name": ".venv (3.10.12)",
   "language": "python",
   "name": "python3"
  },
  "language_info": {
   "codemirror_mode": {
    "name": "ipython",
    "version": 3
   },
   "file_extension": ".py",
   "mimetype": "text/x-python",
   "name": "python",
   "nbconvert_exporter": "python",
   "pygments_lexer": "ipython3",
   "version": "3.10.12"
  }
 },
 "nbformat": 4,
 "nbformat_minor": 5
}
