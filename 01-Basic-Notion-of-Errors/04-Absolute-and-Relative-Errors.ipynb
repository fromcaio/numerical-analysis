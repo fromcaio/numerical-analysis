{
 "cells": [
  {
   "cell_type": "markdown",
   "metadata": {},
   "source": [
    "# Notions of Errors: Absolute and Relative Error\n",
    "\n",
    "---\n",
    "\n",
    "## 1. Introduction\n",
    "\n",
    "In our previous notebooks, we established that errors are an unavoidable part of numerical computation. However, simply knowing that an error exists is not enough. We need ways to **quantify** its magnitude and understand its **significance**. \n",
    "\n",
    "For example, is an error of 1 centimeter a big deal? If you are measuring the length of a pencil, yes. If you are measuring the distance between São Paulo and Rio de Janeiro, not at all.\n",
    "\n",
    "This is where the concepts of **absolute error** and **relative error** become essential. They are the fundamental tools we use to measure the discrepancy between an approximated value and a true value.\n",
    "\n",
    "In this notebook, we will:\n",
    "* Define absolute and relative error.\n",
    "* Discuss why relative error is often a more meaningful measure of an error's importance.\n",
    "* Provide clear Python examples to illustrate these concepts."
   ]
  },
  {
   "cell_type": "markdown",
   "metadata": {},
   "source": [
    "## 2. Theoretical Background\n",
    "\n",
    "Let's establish our notation:\n",
    "-   Let $ x $ be the exact or true value of a quantity.\n",
    "-   Let $ \\bar{x} $ be the approximate or measured value of that quantity.\n",
    "\n",
    "### 2.1 Absolute Error\n",
    "\n",
    "The **absolute error** ($E_a$) is the absolute difference between the true value and the approximate value. It tells you the raw magnitude of the discrepancy.\n",
    "\n",
    "The formula is:\n",
    "$$ E_a = |x - \\bar{x}| $$\n",
    "\n",
    "**Limitation:** The absolute error does not provide context. As we saw in the introduction, an absolute error of 1 cm is large for a small object but negligible for a large one.\n",
    "\n",
    "### 2.2 Relative Error\n",
    "\n",
    "The **relative error** ($E_r$) is the absolute error divided by the magnitude of the true value. It expresses the error as a fraction or percentage of the true value, which gives us a much better sense of its significance.\n",
    "\n",
    "The formula is:\n",
    "$$ E_r = \\frac{|x - \\bar{x}|}{|x|} $$\n",
    "\n",
    "**Important Note:** This formula assumes that $ x \\neq 0 $.\n",
    "\n",
    "The relative error is often expressed as a percentage by multiplying it by 100%.\n",
    "\n",
    "$$ E_r(\\%) = \\frac{|x - \\bar{x}|}{|x|} \\times 100\\% $$"
   ]
  },
  {
   "cell_type": "markdown",
   "metadata": {},
   "source": [
    "## 3. Python Implementation and Examples\n",
    "\n",
    "Let's write simple Python functions to calculate these errors and apply them to a practical scenario to highlight their differences."
   ]
  },
  {
   "cell_type": "code",
   "execution_count": null,
   "metadata": {},
   "outputs": [],
   "source": [
    "def calculate_absolute_error(true_value, approx_value):\n",
    "    \"\"\"Calculates the absolute error.\"\"\"\n",
    "    return abs(true_value - approx_value)\n",
    "\n",
    "def calculate_relative_error(true_value, approx_value):\n",
    "    \"\"\"Calculates the relative error.\"\"\"\n",
    "    if true_value == 0:\n",
    "        raise ValueError(\"The true value cannot be zero for relative error calculation.\")\n",
    "    return abs(true_value - approx_value) / abs(true_value)\n"
   ]
  },
  {
   "cell_type": "markdown",
   "metadata": {},
   "source": [
    "### Scenario: Measuring a Plank and a Road\n",
    "\n",
    "Imagine two separate measurement tasks:\n",
    "1.  **Task A:** Measuring a wooden plank with a true length of **2 meters**.\n",
    "2.  **Task B:** Measuring a road with a true length of **1 kilometer** (1000 meters).\n",
    "\n",
    "In both tasks, our measurement tool introduces an error, and we get an approximate value. Let's say in both cases, the absolute error is the same: **0.1 meters** (10 centimeters)."
   ]
  },
  {
   "cell_type": "code",
   "execution_count": null,
   "metadata": {},
   "outputs": [],
   "source": [
    "# --- Scenario A: Wooden Plank ---\n",
    "plank_true = 2.0  # meters\n",
    "plank_approx = 2.1 # meters\n",
    "\n",
    "# --- Scenario B: Road ---\n",
    "road_true = 1000.0 # meters\n",
    "road_approx = 1000.1 # meters\n",
    "\n",
    "# Calculate errors for the plank\n",
    "plank_abs_error = calculate_absolute_error(plank_true, plank_approx)\n",
    "plank_rel_error = calculate_relative_error(plank_true, plank_approx)\n",
    "\n",
    "# Calculate errors for the road\n",
    "road_abs_error = calculate_absolute_error(road_true, road_approx)\n",
    "road_rel_error = calculate_relative_error(road_true, road_approx)\n",
    "\n",
    "# Print results\n",
    "print(\"--- Wooden Plank Measurement ---\")\n",
    "print(f\"True Value: {plank_true} m\")\n",
    "print(f\"Approximate Value: {plank_approx} m\")\n",
    "print(f\"Absolute Error: {plank_abs_error:.4f} m\")\n",
    "print(f\"Relative Error: {plank_rel_error:.4f} or {plank_rel_error:.2%}\\n\")\n",
    "\n",
    "print(\"--- Road Measurement ---\")\n",
    "print(f\"True Value: {road_true} m\")\n",
    "print(f\"Approximate Value: {road_approx} m\")\n",
    "print(f\"Absolute Error: {road_abs_error:.4f} m\")\n",
    "print(f\"Relative Error: {road_rel_error:.4f} or {road_rel_error:.2%}\")"
   ]
  },
  {
   "cell_type": "markdown",
   "metadata": {},
   "source": [
    "## 4. Analysis and Discussion\n",
    "\n",
    "The results from our scenario are very revealing:\n",
    "\n",
    "* **Absolute Error:** The absolute error for both measurements is identical: **0.1 meters**. If we only looked at this number, we might mistakenly believe that the quality of both measurements was the same.\n",
    "\n",
    "* **Relative Error:** This is where the story changes.\n",
    "    * For the plank, the relative error is **5.00%**. This is a significant error. An error of this magnitude could make the plank unusable for its intended purpose in construction.\n",
    "    * For the road, the relative error is only **0.01%**. This is an extremely small and likely acceptable error for most civil engineering applications.\n",
    "\n",
    "This comparison clearly shows that the relative error provides the necessary context to judge the severity or significance of an error."
   ]
  },
  {
   "cell_type": "markdown",
   "metadata": {},
   "source": [
    "## 5. Conclusion\n",
    "\n",
    "Understanding and calculating errors are fundamental skills in numerical analysis. \n",
    "\n",
    "**Key Takeaways:**\n",
    "\n",
    "1.  **Absolute Error** measures the raw difference between a true and an approximate value but lacks context about the error's importance.\n",
    "2.  **Relative Error** scales the error against the true value, making it a much better indicator of the error's significance.\n",
    "3.  In almost all scientific and engineering contexts, the **relative error is the more informative and useful metric** for evaluating the quality of an approximation.\n",
    "\n",
    "When you encounter an error in a numerical method, always consider calculating the relative error to determine if the approximation is \"good enough\" for your specific application."
   ]
  }
 ],
 "metadata": {
  "kernelspec": {
   "display_name": "Python 3",
   "language": "python",
   "name": "python3"
  },
  "language_info": {
   "codemirror_mode": {
    "name": "ipython",
    "version": 3
   },
   "file_extension": ".py",
   "mimetype": "text/x-python",
   "name": "python",
   "nbconvert_exporter": "python",
   "pygments_lexer": "ipython3",
   "version": "3.9.7"
  }
 },
 "nbformat": 4,
 "nbformat_minor": 4
}