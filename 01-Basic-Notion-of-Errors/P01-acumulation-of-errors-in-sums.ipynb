{
 "cells": [
  {
   "cell_type": "markdown",
   "metadata": {},
   "source": [
    "# Practical Exercise 01: Accumulation of Errors in Sums\n",
    "\n",
    "---\n",
    "\n",
    "## 1. Problem Statement\n",
    "\n",
    "Write a program to obtain the result of the following operation:\n",
    "\n",
    "$$ S = 10000 - \\sum_{k=1}^{n} x $$\n",
    "\n",
    "Calculate the value of $S$ for the following cases:\n",
    "\n",
    "**a)** $ n = 100000 $ and $ x = 0.1 $\n",
    "\n",
    "**b)** $ n = 80000 $ and $ x = 0.135 $"
   ]
  },
  {
   "cell_type": "markdown",
   "metadata": {},
   "source": [
    "## 2. Analysis and Hypothesis\n",
    "\n",
    "Before programming, let's analyze what we expect.\n",
    "\n",
    "In **case a**, the exact value of the sum is $ 100000 \\times 0.1 = 10000 $. Therefore, the expected final result for $S$ is $ 10000 - 10000 = 0 $.\n",
    "\n",
    "However, as we saw in previous notebooks, the number `0.1` cannot be represented exactly in the binary floating-point system. This means that a small representation error will be introduced with each sum. By summing this value 100,000 times, our hypothesis is that **these small errors will accumulate**, and the final result of the sum will not be exactly 10000. Consequently, the value of $S$ will be a number very close to zero, but **not exactly zero**.\n",
    "\n",
    "A similar analysis applies to **case b**. The value of $x=0.135$ is also not exactly representable in binary, so we expect a result close to the analytical value, but with a small accumulated error."
   ]
  },
  {
   "cell_type": "markdown",
   "metadata": {},
   "source": [
    "## 3. Python Implementation"
   ]
  },
  {
   "cell_type": "code",
   "execution_count": 2,
   "metadata": {},
   "outputs": [],
   "source": [
    "def calculate_S(n, x):\n",
    "    \"\"\"Calculates the sum and then subtracts it from 10000.\"\"\"\n",
    "    \n",
    "    # Initialize the variable for the sum\n",
    "    sum_x = 0.0\n",
    "    \n",
    "    # Perform the sum n times\n",
    "    for _ in range(n):\n",
    "        sum_x += x\n",
    "        \n",
    "    # Calculate the final result\n",
    "    S = 10000 - sum_x\n",
    "    \n",
    "    print(f\"Calculated value of the sum (sum_x): {sum_x:.15f}\")\n",
    "    print(f\"Final result (S): {S:.15f}\")\n",
    "    \n",
    "    return S"
   ]
  },
  {
   "cell_type": "markdown",
   "metadata": {},
   "source": [
    "### Part a) n = 100000 and x = 0.1"
   ]
  },
  {
   "cell_type": "code",
   "execution_count": 3,
   "metadata": {},
   "outputs": [
    {
     "name": "stdout",
     "output_type": "stream",
     "text": [
      "--- Case a) n=100000, x=0.1 ---\n",
      "Calculated value of the sum (sum_x): 10000.000000018848368\n",
      "Final result (S): -0.000000018848368\n",
      "\n",
      "Expected exact value: 0.0\n",
      "Absolute error: 0.000000018848368\n"
     ]
    }
   ],
   "source": [
    "print(\"--- Case a) n=100000, x=0.1 ---\")\n",
    "n_a = 100000\n",
    "x_a = 0.1\n",
    "\n",
    "S_a = calculate_S(n_a, x_a)\n",
    "\n",
    "exact_value_a = 0.0\n",
    "absolute_error_a = abs(S_a - exact_value_a)\n",
    "print(f\"\\nExpected exact value: {exact_value_a}\")\n",
    "print(f\"Absolute error: {absolute_error_a:.15f}\")"
   ]
  },
  {
   "cell_type": "markdown",
   "metadata": {},
   "source": [
    "#### Analysis of the Result (a)\n",
    "\n",
    "As predicted, the result was not `0`. Summing `0.1` repeatedly resulted in a value slightly different from `10000`, leading to a final `S` that is not zero. The absolute error, although small, clearly demonstrates the effect of the **accumulation of representation errors**."
   ]
  },
  {
   "cell_type": "markdown",
   "metadata": {},
   "source": [
    "### Part b) n = 80000 and x = 0.135\n",
    "\n",
    "The exact value of the sum is \n",
    "$$10000 - (80000 \\times 0.135)=$$\n",
    "$$10000 - 10800 = - 800$$"
   ]
  },
  {
   "cell_type": "code",
   "execution_count": null,
   "metadata": {},
   "outputs": [
    {
     "name": "stdout",
     "output_type": "stream",
     "text": [
      "\n",
      "--- Case b) n=80000, x=0.135 ---\n",
      "Calculated value of the sum (sum_x): 10800.000000014022589\n",
      "Final result (S): -800.000000014022589\n",
      "\n",
      "Expected exact sum: 10800.0\n",
      "Expected exact value of S: -800.0\n",
      "Absolute error: 0.000000014022589\n"
     ]
    }
   ],
   "source": [
    "print(\"\\n--- Case b) n=80000, x=0.135 ---\")\n",
    "n_b = 80000\n",
    "x_b = 0.135\n",
    "\n",
    "S_b = calculate_S(n_b, x_b)\n",
    "\n",
    "exact_sum_b = 80000 * 0.135\n",
    "exact_value_b = 10000 - exact_sum_b\n",
    "absolute_error_b = abs(S_b - exact_value_b)\n",
    "\n",
    "print(f\"\\nExpected exact sum: {exact_sum_b}\")\n",
    "print(f\"Expected exact value of S: {exact_value_b}\")\n",
    "print(f\"Absolute error: {absolute_error_b:.15f}\")"
   ]
  },
  {
   "cell_type": "markdown",
   "metadata": {},
   "source": [
    "#### Analysis of the Result (b)\n",
    "\n",
    "The same phenomenon occurs here. The calculated value of the sum is close to, but not identical to, the exact value of `10800`. This results in a small absolute error in the final value of `S`."
   ]
  },
  {
   "cell_type": "markdown",
   "metadata": {},
   "source": [
    "## 4. A More Precise Solution: `math.fsum`\n",
    "\n",
    "Python offers a function in its `math` library specifically designed to minimize precision loss when summing a sequence of floating-point numbers: `math.fsum()`.\n",
    "\n",
    "This algorithm tracks partial errors during the summation to increase overall precision. Let's apply it to case (a) and see the difference."
   ]
  },
  {
   "cell_type": "code",
   "execution_count": 4,
   "metadata": {},
   "outputs": [
    {
     "name": "stdout",
     "output_type": "stream",
     "text": [
      "--- Recalculating case (a) with math.fsum ---\n",
      "Precise sum calculated: 10000.0\n",
      "Precise final result (S): 0.0\n"
     ]
    }
   ],
   "source": [
    "import math\n",
    "\n",
    "# We create a list or generator with n_a occurrences of x_a\n",
    "values_a = [x_a] * n_a\n",
    "\n",
    "# We use math.fsum to calculate the sum\n",
    "precise_sum_a = math.fsum(values_a)\n",
    "\n",
    "S_precise_a = 10000 - precise_sum_a\n",
    "\n",
    "print(\"--- Recalculating case (a) with math.fsum ---\")\n",
    "print(f\"Precise sum calculated: {precise_sum_a}\")\n",
    "print(f\"Precise final result (S): {S_precise_a}\")"
   ]
  },
  {
   "cell_type": "markdown",
   "metadata": {},
   "source": [
    "## 5. Conclusion\n",
    "\n",
    "This exercise is a practical and powerful demonstration of one of the most important concepts in numerical computation:\n",
    "\n",
    "1.  **Errors Accumulate**: Repetitive operations, especially summing many small numbers, can cause representation and rounding errors to grow to a significant level.\n",
    "2.  **Floating-Point Arithmetic is Not Exact**: It cannot be assumed that calculations with `float` will produce mathematically exact results, even for simple operations.\n",
    "3.  **Use the Right Tools**: For sums where precision is critical, specialized algorithms (like the one implemented in `math.fsum`) should be used to mitigate precision loss."
   ]
  }
 ],
 "metadata": {
  "kernelspec": {
   "display_name": ".venv (3.10.12)",
   "language": "python",
   "name": "python3"
  },
  "language_info": {
   "codemirror_mode": {
    "name": "ipython",
    "version": 3
   },
   "file_extension": ".py",
   "mimetype": "text/x-python",
   "name": "python",
   "nbconvert_exporter": "python",
   "pygments_lexer": "ipython3",
   "version": "3.10.12"
  }
 },
 "nbformat": 4,
 "nbformat_minor": 4
}
