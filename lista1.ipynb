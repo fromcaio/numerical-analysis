{
 "cells": [
  {
   "cell_type": "markdown",
   "id": "588c859b",
   "metadata": {},
   "source": [
    "## Exercicio 10\n",
    "Escreva um programa para obter o resultado da seguinte operação:\n",
    "\n",
    "$$\n",
    "S = 10000 - \\sum_{k=1}^{n} x\n",
    "$$\n",
    "\n",
    "Para:\n",
    "a) n = 100000 e x = 0.1\n",
    "b) n = 80000 e x = 0.125\n"
   ]
  },
  {
   "cell_type": "code",
   "execution_count": 12,
   "id": "ec258ff3",
   "metadata": {},
   "outputs": [
    {
     "name": "stdout",
     "output_type": "stream",
     "text": [
      "n= 100000, x= 0.1, S = -1.884864639367656e-08\n",
      "n= 80000, x= 0.1, S = 1999.9999999804281\n"
     ]
    }
   ],
   "source": [
    "def calculate_S_iterative(n, x):\n",
    "    \"\"\"Iteratively computes S = 10000 - sum(x for k=1 to n)\"\"\"\n",
    "    S = 10000\n",
    "    for _ in range(n):\n",
    "        S -= x\n",
    "    return S\n",
    "\n",
    "# a)\n",
    "n = 100000\n",
    "x = 0.1\n",
    "# 100.000 * 0.1 = 10.000\n",
    "S = calculate_S_iterative(n, x)\n",
    "print(f\"n= 100000, x= 0.1, S = {S}\")\n",
    "\n",
    "#b)\n",
    "n = 80000\n",
    "x = 0.1\n",
    "# 80.000 * 0.125 = 10.000\n",
    "S = calculate_S_iterative(n, x)\n",
    "print(f\"n= 80000, x= 0.1, S = {S}\")"
   ]
  },
  {
   "cell_type": "markdown",
   "id": "4b180b75",
   "metadata": {},
   "source": [
    "No primeiro caso, tivemos um numero negativo muito grande\n",
    "No segundo caso, tivemos um numero positivo proximo a 2000"
   ]
  },
  {
   "cell_type": "code",
   "execution_count": 4,
   "id": "455cdc3f",
   "metadata": {},
   "outputs": [
    {
     "ename": "RecursionError",
     "evalue": "maximum recursion depth exceeded in comparison",
     "output_type": "error",
     "traceback": [
      "\u001b[0;31m---------------------------------------------------------------------------\u001b[0m",
      "\u001b[0;31mRecursionError\u001b[0m                            Traceback (most recent call last)",
      "Cell \u001b[0;32mIn[4], line 11\u001b[0m\n\u001b[1;32m      9\u001b[0m n \u001b[38;5;241m=\u001b[39m \u001b[38;5;241m100000\u001b[39m\n\u001b[1;32m     10\u001b[0m x \u001b[38;5;241m=\u001b[39m \u001b[38;5;241m0.1\u001b[39m\n\u001b[0;32m---> 11\u001b[0m S \u001b[38;5;241m=\u001b[39m \u001b[43mcalculate_S\u001b[49m\u001b[43m(\u001b[49m\u001b[43mn\u001b[49m\u001b[43m,\u001b[49m\u001b[43m \u001b[49m\u001b[43mx\u001b[49m\u001b[43m)\u001b[49m\n\u001b[1;32m     12\u001b[0m \u001b[38;5;28mprint\u001b[39m(\u001b[38;5;124mf\u001b[39m\u001b[38;5;124m\"\u001b[39m\u001b[38;5;124mS = \u001b[39m\u001b[38;5;132;01m{\u001b[39;00mS\u001b[38;5;132;01m}\u001b[39;00m\u001b[38;5;124m\"\u001b[39m)\n",
      "Cell \u001b[0;32mIn[4], line 6\u001b[0m, in \u001b[0;36mcalculate_S\u001b[0;34m(n, x)\u001b[0m\n\u001b[1;32m      4\u001b[0m     \u001b[38;5;28;01mreturn\u001b[39;00m \u001b[38;5;241m10000\u001b[39m\n\u001b[1;32m      5\u001b[0m \u001b[38;5;28;01melse\u001b[39;00m:\n\u001b[0;32m----> 6\u001b[0m     \u001b[38;5;28;01mreturn\u001b[39;00m \u001b[43mcalculate_S\u001b[49m\u001b[43m(\u001b[49m\u001b[43mn\u001b[49m\u001b[38;5;241;43m-\u001b[39;49m\u001b[38;5;241;43m1\u001b[39;49m\u001b[43m,\u001b[49m\u001b[43m \u001b[49m\u001b[43mx\u001b[49m\u001b[43m)\u001b[49m \u001b[38;5;241m-\u001b[39m x\n",
      "Cell \u001b[0;32mIn[4], line 6\u001b[0m, in \u001b[0;36mcalculate_S\u001b[0;34m(n, x)\u001b[0m\n\u001b[1;32m      4\u001b[0m     \u001b[38;5;28;01mreturn\u001b[39;00m \u001b[38;5;241m10000\u001b[39m\n\u001b[1;32m      5\u001b[0m \u001b[38;5;28;01melse\u001b[39;00m:\n\u001b[0;32m----> 6\u001b[0m     \u001b[38;5;28;01mreturn\u001b[39;00m \u001b[43mcalculate_S\u001b[49m\u001b[43m(\u001b[49m\u001b[43mn\u001b[49m\u001b[38;5;241;43m-\u001b[39;49m\u001b[38;5;241;43m1\u001b[39;49m\u001b[43m,\u001b[49m\u001b[43m \u001b[49m\u001b[43mx\u001b[49m\u001b[43m)\u001b[49m \u001b[38;5;241m-\u001b[39m x\n",
      "    \u001b[0;31m[... skipping similar frames: calculate_S at line 6 (2968 times)]\u001b[0m\n",
      "Cell \u001b[0;32mIn[4], line 6\u001b[0m, in \u001b[0;36mcalculate_S\u001b[0;34m(n, x)\u001b[0m\n\u001b[1;32m      4\u001b[0m     \u001b[38;5;28;01mreturn\u001b[39;00m \u001b[38;5;241m10000\u001b[39m\n\u001b[1;32m      5\u001b[0m \u001b[38;5;28;01melse\u001b[39;00m:\n\u001b[0;32m----> 6\u001b[0m     \u001b[38;5;28;01mreturn\u001b[39;00m \u001b[43mcalculate_S\u001b[49m\u001b[43m(\u001b[49m\u001b[43mn\u001b[49m\u001b[38;5;241;43m-\u001b[39;49m\u001b[38;5;241;43m1\u001b[39;49m\u001b[43m,\u001b[49m\u001b[43m \u001b[49m\u001b[43mx\u001b[49m\u001b[43m)\u001b[49m \u001b[38;5;241m-\u001b[39m x\n",
      "Cell \u001b[0;32mIn[4], line 3\u001b[0m, in \u001b[0;36mcalculate_S\u001b[0;34m(n, x)\u001b[0m\n\u001b[1;32m      1\u001b[0m \u001b[38;5;28;01mdef\u001b[39;00m \u001b[38;5;21mcalculate_S\u001b[39m(n, x):\n\u001b[1;32m      2\u001b[0m     \u001b[38;5;124;03m\"\"\"Recursively computes S = 10000 - sum(x for k=1 to n)\"\"\"\u001b[39;00m\n\u001b[0;32m----> 3\u001b[0m     \u001b[38;5;28;01mif\u001b[39;00m \u001b[43mn\u001b[49m\u001b[43m \u001b[49m\u001b[38;5;241;43m==\u001b[39;49m\u001b[43m \u001b[49m\u001b[38;5;241;43m0\u001b[39;49m:\n\u001b[1;32m      4\u001b[0m         \u001b[38;5;28;01mreturn\u001b[39;00m \u001b[38;5;241m10000\u001b[39m\n\u001b[1;32m      5\u001b[0m     \u001b[38;5;28;01melse\u001b[39;00m:\n",
      "\u001b[0;31mRecursionError\u001b[0m: maximum recursion depth exceeded in comparison"
     ]
    }
   ],
   "source": [
    "def calculate_S(n, x):\n",
    "    \"\"\"Recursively computes S = 10000 - sum(x for k=1 to n)\"\"\"\n",
    "    if n == 0:\n",
    "        return 10000\n",
    "    else:\n",
    "        return calculate_S(n-1, x) - x\n",
    "\n",
    "# Example usage:\n",
    "n = 100000\n",
    "x = 0.1\n",
    "S = calculate_S(n, x)\n",
    "print(f\"S = {S}\")"
   ]
  },
  {
   "cell_type": "markdown",
   "id": "b0e23cce",
   "metadata": {},
   "source": [
    "R: A tentativa de implementar a solução acima não funcionou pois estoura o limite de chamadas recursivas"
   ]
  },
  {
   "cell_type": "markdown",
   "id": "3db6374c",
   "metadata": {},
   "source": [
    "Escreva um programa em uma linguagem conhecida, para calcular $e^x$ pela série de Taylor com n termos. O valor de x e o número de termos da série, n, são dados de entrada deste programa. Para valores negativos de x, o programa deve calcular $e^x$ de duas formas: em uma delas o valor de x é usado diretamente na série de Taylor e, na outra forma, o valor usado na série é y = -x, e, em seguida, calcula-se o valor de $e^x$ através de $\\frac{1}{e^x}$\n",
    "\n",
    "a) Teste seu programa com vários valores de x (x pŕoximo de zero e x distante de zero) e, para cada valor de x, teste o cálculo da série com vários valores de n. Analise os resultados obtidos.\n",
    "\n",
    "b) Dificuldades com o cálculo do fatorial: O cálculo de k! necessário na série de Taylor pode ser feito de modo a evitar a ocorrência de overflow. Os cálculos podem ser organizados de modo a se evitar o \"estouro\" no cálculo de k!; para isto é preciso analisar cuidadosamente o k-ésimo termo $\\frac{x^{k}}{k!}$, tentar misturar o cálculo do numerador e do denominador e relalizar divisões intermediárias. Estude uma maneira de realizar esta operação de modo a evitar que k! estoure.\n",
    "\n",
    "c) Com a modificação do item (b), a série de Taylor pode ser calculada com quantos termos se queira. Qual seria um critério de parada para se interromper o cálculo da série?"
   ]
  }
 ],
 "metadata": {
  "kernelspec": {
   "display_name": "Python 3",
   "language": "python",
   "name": "python3"
  },
  "language_info": {
   "codemirror_mode": {
    "name": "ipython",
    "version": 3
   },
   "file_extension": ".py",
   "mimetype": "text/x-python",
   "name": "python",
   "nbconvert_exporter": "python",
   "pygments_lexer": "ipython3",
   "version": "3.10.12"
  }
 },
 "nbformat": 4,
 "nbformat_minor": 5
}
